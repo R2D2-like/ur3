{
 "cells": [
  {
   "cell_type": "code",
   "execution_count": 119,
   "metadata": {},
   "outputs": [],
   "source": [
    "from ur_control import transformations as tr\n",
    "import quaternion as Q\n",
    "from pyquaternion import Quaternion\n",
    "import importlib\n",
    "importlib.reload(tr)\n",
    "import numpy as np\n",
    "from scipy.spatial.transform import Rotation"
   ]
  },
  {
   "cell_type": "code",
   "execution_count": 120,
   "metadata": {},
   "outputs": [],
   "source": [
    "# q1 = tr.random_quaternion()\n",
    "# q2 = tr.random_quaternion()\n",
    "q1 = [-0.05, 0.50, 0.50, 0.50]\n",
    "# q1 = [0.74295004, 0.02290942, 0.62436794, 0.24013553]\n",
    "# q2 = [-0.50433, 0.49562, 0.50436, 0.49561]\n",
    "# q1 = np.array([0, 0, 0, 1])  # Identity quaternion\n",
    "q2 = tr.rotate_quaternion_by_rpy(0, 0, np.deg2rad(10), [-0.05, 0.50, 0.50, 0.50])\n",
    "dt = 0.05"
   ]
  },
  {
   "cell_type": "code",
   "execution_count": 121,
   "metadata": {},
   "outputs": [
    {
     "name": "stdout",
     "output_type": "stream",
     "text": [
      "[-0.05, 0.5, 0.5, 0.5] [-0.09338761  0.49373956  0.54167522  0.45451948]\n"
     ]
    }
   ],
   "source": [
    "print(q1, q2)\n"
   ]
  },
  {
   "cell_type": "code",
   "execution_count": 122,
   "metadata": {},
   "outputs": [
    {
     "name": "stdout",
     "output_type": "stream",
     "text": [
      "q2 [-0.09338761  0.49373956  0.54167522  0.45451948]\n",
      "[ 0.          0.         -0.11446689] [-0.04713752  0.50027798  0.49713015  0.50285347]\n",
      "[ 0.00000000e+00 -1.21106545e-17 -1.14466889e-01] 60.46026713032012\n",
      "[ 0.00000000e+00 -1.00375766e-16 -9.48726735e-01] 60.9127464116335\n",
      "[ 0.95871317 -0.78440168  0.43142093] 61.71942372353765\n"
     ]
    }
   ],
   "source": [
    "def w1(q1, q2, dt):\n",
    "    delta_q = (tr.quaternion_multiply(q1, tr.quaternion_conjugate(q2)))\n",
    "    delta_q_len = np.linalg.norm(delta_q[:3])\n",
    "    delta_q_angle = 2*np.arctan2(delta_q_len, delta_q[3])\n",
    "    return delta_q[:3] * delta_q_angle / dt\n",
    "\n",
    "\n",
    "def w2(q1, q2, dt):\n",
    "    q1_ = Quaternion(np.roll(q1, 1))\n",
    "    q2_ = Quaternion(np.roll(q2, 1))\n",
    "    delta_q = q1_*q2_.conjugate\n",
    "    axis = np.linalg.norm(delta_q.vector)\n",
    "    angle = 2 * np.arctan2(axis, delta_q.w)\n",
    "    return delta_q.vector * angle / dt\n",
    "\n",
    "def w3(q1, q2, dt):\n",
    "    q1_ = Quaternion(np.roll(q1, 1))\n",
    "    q2_ = Quaternion(np.roll(q2, 1))\n",
    "    delta_q = q1_ * q2_.conjugate\n",
    "    axis = delta_q.vector\n",
    "    angle = 2 * np.arccos(delta_q.w)\n",
    "    return axis * angle / dt\n",
    "\n",
    "def w4(q1_, q2_, dt):\n",
    "    q1 = Quaternion(np.roll(q1_, -1))\n",
    "    q2 = Quaternion(np.roll(q2_, -1))\n",
    "    return (2 / dt) * np.array([\n",
    "        q1[0]*q2[1] - q1[1]*q2[0] - q1[2]*q2[3] + q1[3]*q2[2],\n",
    "        q1[0]*q2[2] + q1[1]*q2[3] - q1[2]*q2[0] - q1[3]*q2[1],\n",
    "        q1[0]*q2[3] - q1[1]*q2[2] + q1[2]*q2[1] - q1[3]*q2[0]])\n",
    "\n",
    "def check(q1_, q2_, w, dt):\n",
    "    q1 = Quaternion(np.roll(q1_, 1))\n",
    "    q2 = Quaternion(np.roll(q2_, 1))\n",
    "    q1.integrate(w, dt)\n",
    "    dq = q2 * q1.conjugate\n",
    "    angle = 2 * np.arccos(dq.w)\n",
    "    return np.rad2deg(angle)\n",
    "    \n",
    "dt = 0.1\n",
    "print(\"q2\", q2)\n",
    "print(w1(q1,q2,dt), tr.integrateUnitQuaternionDMM2(q1, w1(q1,q2,dt), dt))\n",
    "print(w2(q1,q2,dt), check(q1, q2, w2(q1,q2,dt), dt))\n",
    "print(w3(q1,q2,dt), check(q1, q2, w3(q1,q2,dt), dt))\n",
    "print(w4(q1,q2,dt), check(q1, q2, w4(q1,q2,dt), dt))\n"
   ]
  },
  {
   "cell_type": "code",
   "execution_count": 123,
   "metadata": {},
   "outputs": [
    {
     "name": "stdout",
     "output_type": "stream",
     "text": [
      "[-4.16333634e-16  2.08166817e-16  1.74311485e+00] [-0.09333294  0.4937499   0.54162489  0.45457945]\n",
      "[-4.16333634e-16  2.08166817e-16  1.74311485e+00] [-0.09333294  0.4937499   0.54162489  0.45457945]\n"
     ]
    }
   ],
   "source": [
    "a1 = tr.angular_velocity_from_quaternions(q1, q2, dt)\n",
    "a3 = tr.quaternion_to_angular_velocity(q1, q2, dt)\n",
    "a4 = tr.angular_velocities(q1, q2, dt)\n",
    "print(a1, tr.integrateUnitQuaternionDMM(q1, a1, dt))\n",
    "print(a1, tr.integrateUnitQuaternionDMM2(q1, a1, dt))\n",
    "# print(a3, tr.integrateUnitQuaternionDMM(q1, a3, dt))\n",
    "# print(a4)\n",
    "\n",
    "\n",
    "\n"
   ]
  },
  {
   "cell_type": "code",
   "execution_count": 124,
   "metadata": {},
   "outputs": [
    {
     "ename": "NameError",
     "evalue": "name 'angular_velocity' is not defined",
     "output_type": "error",
     "traceback": [
      "\u001b[0;31m---------------------------------------------------------------------------\u001b[0m",
      "\u001b[0;31mNameError\u001b[0m                                 Traceback (most recent call last)",
      "Cell \u001b[0;32mIn [124], line 49\u001b[0m\n\u001b[1;32m      1\u001b[0m \u001b[39m# import numpy as np\u001b[39;00m\n\u001b[1;32m      2\u001b[0m \n\u001b[1;32m      3\u001b[0m \n\u001b[0;32m   (...)\u001b[0m\n\u001b[1;32m     47\u001b[0m \n\u001b[1;32m     48\u001b[0m \u001b[39m# # Integrate the angular velocity to obtain the new quaternion\u001b[39;00m\n\u001b[0;32m---> 49\u001b[0m q2_integrated \u001b[39m=\u001b[39m np\u001b[39m.\u001b[39mquaternion(\u001b[39m1\u001b[39m, \u001b[39m*\u001b[39m(angular_velocity \u001b[39m*\u001b[39m dt)) \u001b[39m*\u001b[39m np\u001b[39m.\u001b[39mquaternion(\u001b[39m*\u001b[39mq1)\n\u001b[1;32m     50\u001b[0m \u001b[39m# q2_integrated2 = rotate(q1, angular_velocity, dt)\u001b[39;00m\n\u001b[1;32m     51\u001b[0m \n\u001b[1;32m     52\u001b[0m \u001b[39m# # Compute the actual quaternion using the angular velocity and compare to the expected quaternion\u001b[39;00m\n\u001b[0;32m   (...)\u001b[0m\n\u001b[1;32m     61\u001b[0m \u001b[39m# print(\"angular velocity computed:  \", angular_velocity_computed)\u001b[39;00m\n\u001b[1;32m     62\u001b[0m \u001b[39m# print(\"angular velocity expected:  \", angular_velocity)\u001b[39;00m\n",
      "\u001b[0;31mNameError\u001b[0m: name 'angular_velocity' is not defined"
     ]
    }
   ],
   "source": [
    "# import numpy as np\n",
    "\n",
    "\n",
    "# def quaternion_to_angular_velocity(q1, q2, dt):\n",
    "#     \"\"\"\n",
    "#     Computes the angular velocity between two unit quaternions.\n",
    "\n",
    "#     Args:\n",
    "#         q1 (np.ndarray): A 4-element array representing the first unit quaternion.\n",
    "#         q2 (np.ndarray): A 4-element array representing the second unit quaternion.\n",
    "#         dt (float): The time difference between the two quaternions.\n",
    "\n",
    "#     Returns:\n",
    "#         np.ndarray: A 3-element array representing the angular velocity.\n",
    "#     \"\"\"\n",
    "#     # Compute the quaternion difference\n",
    "#     q_diff = np.quaternion(*q2) * np.quaternion(*q1).conjugate()\n",
    "\n",
    "#     # Compute the axis-angle representation of the quaternion difference\n",
    "#     axis = np.array([q_diff.x, q_diff.y, q_diff.z])\n",
    "#     print(axis)\n",
    "#     angle = 2.0 * np.arccos(q_diff.w)\n",
    "#     print(angle)\n",
    "\n",
    "#     # Compute the angular velocity from the axis-angle representation\n",
    "#     angular_velocity = axis * angle / dt\n",
    "\n",
    "#     return angular_velocity\n",
    "\n",
    "\n",
    "# def rotate(q, w, dt):\n",
    "#     q = q\n",
    "#     Sq = np.array([[-q[1], -q[2], -q[3]],\n",
    "#                    [q[0], -q[3], q[2]],\n",
    "#                    [q[3], q[0], -q[1]],\n",
    "#                    [-q[2], q[1], q[0]]])\n",
    "#     return np.matmul(dt/2 * Sq, np.array(w).transpose()) + q\n",
    "\n",
    "\n",
    "# # Example usage\n",
    "# q1 = np.array([1, 0, 0, 0])  # Identity quaternion\n",
    "# # q1 = np.roll([-0.05, 0.50, 0.50, 0.50], 1)\n",
    "# q2 = tr.rotate_quaternion_by_rpy(0, 0, np.deg2rad(1), [0, 0, 0, 1])\n",
    "\n",
    "# angular_velocity = np.array([0, 0, np.deg2rad(10)])  # 90 degree rotation per second around z-axis\n",
    "# dt = 1  # Time step of 0.1 seconds\n",
    "\n",
    "# # Integrate the angular velocity to obtain the new quaternion\n",
    "q2_integrated = np.quaternion(1, *(angular_velocity * dt)) * np.quaternion(*q1)\n",
    "# q2_integrated2 = rotate(q1, angular_velocity, dt)\n",
    "\n",
    "# # Compute the actual quaternion using the angular velocity and compare to the expected quaternion\n",
    "# q2_expected = np.quaternion(*np.roll(q2, 1))\n",
    "# print(\"q2 integrated:\", q2_integrated)\n",
    "# print(\"q2 integrated2:\", q2_integrated2)\n",
    "# print(\"q2 expected:  \", q2_expected)\n",
    "# print(\"diff\", q2_integrated * q2_expected.conjugate())\n",
    "\n",
    "# # Compute the angular velocity between q1 and q2_expected\n",
    "# angular_velocity_computed = quaternion_to_angular_velocity(q1, q2_expected.components, dt)\n",
    "# print(\"angular velocity computed:  \", angular_velocity_computed)\n",
    "# print(\"angular velocity expected:  \", angular_velocity)\n"
   ]
  }
 ],
 "metadata": {
  "kernelspec": {
   "display_name": "Python 3",
   "language": "python",
   "name": "python3"
  },
  "language_info": {
   "codemirror_mode": {
    "name": "ipython",
    "version": 3
   },
   "file_extension": ".py",
   "mimetype": "text/x-python",
   "name": "python",
   "nbconvert_exporter": "python",
   "pygments_lexer": "ipython3",
   "version": "3.8.10"
  },
  "orig_nbformat": 4,
  "vscode": {
   "interpreter": {
    "hash": "916dbcbb3f70747c44a77c7bcd40155683ae19c65e1c03b4aa3499c5328201f1"
   }
  }
 },
 "nbformat": 4,
 "nbformat_minor": 2
}
